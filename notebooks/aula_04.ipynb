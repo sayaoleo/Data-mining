{
 "cells": [
  {
   "cell_type": "markdown",
   "metadata": {},
   "source": [
    "# Markdown\n",
    "\n",
    "## O que é?\n",
    "\n",
    "- Markdown é uma linguagem de markup (como HTML, por exemplo)\n",
    "- Facilita a formatação do texto"
   ]
  },
  {
   "cell_type": "markdown",
   "metadata": {},
   "source": [
    "# Esse é um título de nível 1\n",
    "## Esse é um título de nível 2\n",
    "### Esse é um título de nível 3\n",
    "\n",
    "Esse é um texto que forma um parágrafo.\n",
    "\n",
    "Outro parágrafo. Precisa ter uma linha em branco entre parágrafos.\n",
    "\n",
    "Adicione ênfase com **negrito** ou __negrito__, ou *itálico* ou _itálico_.\n",
    "\n",
    "* Podemos incluir listas.\n",
    "  * Que podem ser endentadas.\n",
    "    * Outro nível.\n",
    "  * Nível anterior.\n",
    "\n",
    "\n",
    "1. Listas também podem ser numeradas.\n",
    "    1. E podem ter subníveis.\n",
    "2. Para listas ordenadas.\n",
    "\n",
    "[Também é possível incluir hyperlinks](https://google.com)\n",
    "\n",
    "Código em linha usa crases: `foo()`, e blocos de códigos usam três crases:\n",
    "\n",
    "``` python\n",
    "print(\"olá, mundo\")\n",
    "```\n",
    "\n",
    "Ou então podem ter uma endentação de 4 espaços:\n",
    "\n",
    "    bar()\n",
    "\n",
    "> Citação ou destaque\n",
    "\n",
    "Sigam o site https://daringfireball.net/projects/markdown/syntax para mais informações sobre a sintaxe do markdown."
   ]
  }
 ],
 "metadata": {
  "kernelspec": {
   "display_name": "Python 3",
   "language": "python",
   "name": "python3"
  },
  "language_info": {
   "codemirror_mode": {
    "name": "ipython",
    "version": 3
   },
   "file_extension": ".py",
   "mimetype": "text/x-python",
   "name": "python",
   "nbconvert_exporter": "python",
   "pygments_lexer": "ipython3",
   "version": "3.7.9"
  }
 },
 "nbformat": 4,
 "nbformat_minor": 4
}

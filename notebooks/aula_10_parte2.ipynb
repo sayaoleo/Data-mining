{
 "cells": [
  {
   "cell_type": "markdown",
   "metadata": {},
   "source": [
    "# Processamento de Linguagem Natural\n",
    "\n",
    "## Formulação do problema\n",
    "\n",
    "O problema que temos é o de classificação de textos, e o nosso objetivo é investigar quais métodos supervisionados de mineração de dados são mais adequados para resolvê-los.\n",
    "\n",
    "Dado que uma nova reclamação chega, gostaríamos de classificá-la em uma dentre as categorias disponíveis. O classificador assume que cada nova reclamação é designada para uma e apenas uma categoria.\n",
    "\n",
    "## Exploração de dados\n",
    "\n",
    "Antes de iniciar os modelos de mineração de dados, vamos identificar algumas amostras:"
   ]
  },
  {
   "cell_type": "code",
   "execution_count": 1,
   "metadata": {
    "scrolled": true
   },
   "outputs": [
    {
     "data": {
      "text/html": [
       "<div>\n",
       "<style scoped>\n",
       "    .dataframe tbody tr th:only-of-type {\n",
       "        vertical-align: middle;\n",
       "    }\n",
       "\n",
       "    .dataframe tbody tr th {\n",
       "        vertical-align: top;\n",
       "    }\n",
       "\n",
       "    .dataframe thead th {\n",
       "        text-align: right;\n",
       "    }\n",
       "</style>\n",
       "<table border=\"1\" class=\"dataframe\">\n",
       "  <thead>\n",
       "    <tr style=\"text-align: right;\">\n",
       "      <th></th>\n",
       "      <th>Date received</th>\n",
       "      <th>Product</th>\n",
       "      <th>Sub-product</th>\n",
       "      <th>Issue</th>\n",
       "      <th>Sub-issue</th>\n",
       "      <th>Consumer complaint narrative</th>\n",
       "      <th>Company public response</th>\n",
       "      <th>Company</th>\n",
       "      <th>State</th>\n",
       "      <th>ZIP code</th>\n",
       "      <th>Tags</th>\n",
       "      <th>Consumer consent provided?</th>\n",
       "      <th>Submitted via</th>\n",
       "      <th>Date sent to company</th>\n",
       "      <th>Company response to consumer</th>\n",
       "      <th>Timely response?</th>\n",
       "      <th>Consumer disputed?</th>\n",
       "      <th>Complaint ID</th>\n",
       "    </tr>\n",
       "  </thead>\n",
       "  <tbody>\n",
       "    <tr>\n",
       "      <th>0</th>\n",
       "      <td>2019-09-24</td>\n",
       "      <td>Debt collection</td>\n",
       "      <td>I do not know</td>\n",
       "      <td>Attempts to collect debt not owed</td>\n",
       "      <td>Debt is not yours</td>\n",
       "      <td>transworld systems inc. \\nis trying to collect...</td>\n",
       "      <td>NaN</td>\n",
       "      <td>TRANSWORLD SYSTEMS INC</td>\n",
       "      <td>FL</td>\n",
       "      <td>335XX</td>\n",
       "      <td>NaN</td>\n",
       "      <td>Consent provided</td>\n",
       "      <td>Web</td>\n",
       "      <td>2019-09-24</td>\n",
       "      <td>Closed with explanation</td>\n",
       "      <td>Yes</td>\n",
       "      <td>NaN</td>\n",
       "      <td>3384392</td>\n",
       "    </tr>\n",
       "    <tr>\n",
       "      <th>1</th>\n",
       "      <td>2019-09-19</td>\n",
       "      <td>Credit reporting, credit repair services, or o...</td>\n",
       "      <td>Credit reporting</td>\n",
       "      <td>Incorrect information on your report</td>\n",
       "      <td>Information belongs to someone else</td>\n",
       "      <td>NaN</td>\n",
       "      <td>Company has responded to the consumer and the ...</td>\n",
       "      <td>Experian Information Solutions Inc.</td>\n",
       "      <td>PA</td>\n",
       "      <td>15206</td>\n",
       "      <td>NaN</td>\n",
       "      <td>Consent not provided</td>\n",
       "      <td>Web</td>\n",
       "      <td>2019-09-20</td>\n",
       "      <td>Closed with non-monetary relief</td>\n",
       "      <td>Yes</td>\n",
       "      <td>NaN</td>\n",
       "      <td>3379500</td>\n",
       "    </tr>\n",
       "    <tr>\n",
       "      <th>2</th>\n",
       "      <td>2019-11-08</td>\n",
       "      <td>Debt collection</td>\n",
       "      <td>I do not know</td>\n",
       "      <td>Communication tactics</td>\n",
       "      <td>Frequent or repeated calls</td>\n",
       "      <td>Over the past 2 weeks, I have been receiving e...</td>\n",
       "      <td>NaN</td>\n",
       "      <td>Diversified Consultants, Inc.</td>\n",
       "      <td>NC</td>\n",
       "      <td>275XX</td>\n",
       "      <td>NaN</td>\n",
       "      <td>Consent provided</td>\n",
       "      <td>Web</td>\n",
       "      <td>2019-11-08</td>\n",
       "      <td>Closed with explanation</td>\n",
       "      <td>Yes</td>\n",
       "      <td>NaN</td>\n",
       "      <td>3433198</td>\n",
       "    </tr>\n",
       "    <tr>\n",
       "      <th>3</th>\n",
       "      <td>2021-05-13</td>\n",
       "      <td>Checking or savings account</td>\n",
       "      <td>Checking account</td>\n",
       "      <td>Managing an account</td>\n",
       "      <td>Problem accessing account</td>\n",
       "      <td>NaN</td>\n",
       "      <td>NaN</td>\n",
       "      <td>BBVA FINANCIAL CORPORATION</td>\n",
       "      <td>NY</td>\n",
       "      <td>11231</td>\n",
       "      <td>NaN</td>\n",
       "      <td>NaN</td>\n",
       "      <td>Referral</td>\n",
       "      <td>2021-05-17</td>\n",
       "      <td>Closed with explanation</td>\n",
       "      <td>Yes</td>\n",
       "      <td>NaN</td>\n",
       "      <td>4384309</td>\n",
       "    </tr>\n",
       "    <tr>\n",
       "      <th>4</th>\n",
       "      <td>2019-08-10</td>\n",
       "      <td>Credit reporting, credit repair services, or o...</td>\n",
       "      <td>Credit reporting</td>\n",
       "      <td>Improper use of your report</td>\n",
       "      <td>Credit inquiries on your report that you don't...</td>\n",
       "      <td>My personal information was used without my kn...</td>\n",
       "      <td>NaN</td>\n",
       "      <td>Garcadia Financial LLC</td>\n",
       "      <td>CA</td>\n",
       "      <td>945XX</td>\n",
       "      <td>NaN</td>\n",
       "      <td>Consent provided</td>\n",
       "      <td>Web</td>\n",
       "      <td>2019-08-10</td>\n",
       "      <td>Closed with explanation</td>\n",
       "      <td>Yes</td>\n",
       "      <td>NaN</td>\n",
       "      <td>3335931</td>\n",
       "    </tr>\n",
       "  </tbody>\n",
       "</table>\n",
       "</div>"
      ],
      "text/plain": [
       "  Date received                                            Product  \\\n",
       "0    2019-09-24                                    Debt collection   \n",
       "1    2019-09-19  Credit reporting, credit repair services, or o...   \n",
       "2    2019-11-08                                    Debt collection   \n",
       "3    2021-05-13                        Checking or savings account   \n",
       "4    2019-08-10  Credit reporting, credit repair services, or o...   \n",
       "\n",
       "        Sub-product                                 Issue  \\\n",
       "0     I do not know     Attempts to collect debt not owed   \n",
       "1  Credit reporting  Incorrect information on your report   \n",
       "2     I do not know                 Communication tactics   \n",
       "3  Checking account                   Managing an account   \n",
       "4  Credit reporting           Improper use of your report   \n",
       "\n",
       "                                           Sub-issue  \\\n",
       "0                                  Debt is not yours   \n",
       "1                Information belongs to someone else   \n",
       "2                         Frequent or repeated calls   \n",
       "3                          Problem accessing account   \n",
       "4  Credit inquiries on your report that you don't...   \n",
       "\n",
       "                        Consumer complaint narrative  \\\n",
       "0  transworld systems inc. \\nis trying to collect...   \n",
       "1                                                NaN   \n",
       "2  Over the past 2 weeks, I have been receiving e...   \n",
       "3                                                NaN   \n",
       "4  My personal information was used without my kn...   \n",
       "\n",
       "                             Company public response  \\\n",
       "0                                                NaN   \n",
       "1  Company has responded to the consumer and the ...   \n",
       "2                                                NaN   \n",
       "3                                                NaN   \n",
       "4                                                NaN   \n",
       "\n",
       "                               Company State ZIP code Tags  \\\n",
       "0               TRANSWORLD SYSTEMS INC    FL    335XX  NaN   \n",
       "1  Experian Information Solutions Inc.    PA    15206  NaN   \n",
       "2        Diversified Consultants, Inc.    NC    275XX  NaN   \n",
       "3           BBVA FINANCIAL CORPORATION    NY    11231  NaN   \n",
       "4               Garcadia Financial LLC    CA    945XX  NaN   \n",
       "\n",
       "  Consumer consent provided? Submitted via Date sent to company  \\\n",
       "0           Consent provided           Web           2019-09-24   \n",
       "1       Consent not provided           Web           2019-09-20   \n",
       "2           Consent provided           Web           2019-11-08   \n",
       "3                        NaN      Referral           2021-05-17   \n",
       "4           Consent provided           Web           2019-08-10   \n",
       "\n",
       "      Company response to consumer Timely response? Consumer disputed?  \\\n",
       "0          Closed with explanation              Yes                NaN   \n",
       "1  Closed with non-monetary relief              Yes                NaN   \n",
       "2          Closed with explanation              Yes                NaN   \n",
       "3          Closed with explanation              Yes                NaN   \n",
       "4          Closed with explanation              Yes                NaN   \n",
       "\n",
       "   Complaint ID  \n",
       "0       3384392  \n",
       "1       3379500  \n",
       "2       3433198  \n",
       "3       4384309  \n",
       "4       3335931  "
      ]
     },
     "execution_count": 1,
     "metadata": {},
     "output_type": "execute_result"
    }
   ],
   "source": [
    "import pandas as pd\n",
    "\n",
    "df = pd.read_csv(\"..\\\\dados\\\\complaints.csv\")\n",
    "df.head()"
   ]
  },
  {
   "cell_type": "markdown",
   "metadata": {},
   "source": [
    "Nosso input será o \"Consumer complaint narrative\", e nosso output será \"Product\".\n",
    "\n",
    "Vamos remover valores ausentes na coluna da narrativa, e adicionar uma coluna para converter o produto em um inteiro, e vamos criar alguns dicionários para uso no futuro."
   ]
  },
  {
   "cell_type": "code",
   "execution_count": 2,
   "metadata": {},
   "outputs": [
    {
     "data": {
      "text/html": [
       "<div>\n",
       "<style scoped>\n",
       "    .dataframe tbody tr th:only-of-type {\n",
       "        vertical-align: middle;\n",
       "    }\n",
       "\n",
       "    .dataframe tbody tr th {\n",
       "        vertical-align: top;\n",
       "    }\n",
       "\n",
       "    .dataframe thead th {\n",
       "        text-align: right;\n",
       "    }\n",
       "</style>\n",
       "<table border=\"1\" class=\"dataframe\">\n",
       "  <thead>\n",
       "    <tr style=\"text-align: right;\">\n",
       "      <th></th>\n",
       "      <th>product</th>\n",
       "      <th>narrative</th>\n",
       "      <th>category_id</th>\n",
       "    </tr>\n",
       "  </thead>\n",
       "  <tbody>\n",
       "    <tr>\n",
       "      <th>0</th>\n",
       "      <td>Debt collection</td>\n",
       "      <td>transworld systems inc. \\nis trying to collect...</td>\n",
       "      <td>0</td>\n",
       "    </tr>\n",
       "    <tr>\n",
       "      <th>2</th>\n",
       "      <td>Debt collection</td>\n",
       "      <td>Over the past 2 weeks, I have been receiving e...</td>\n",
       "      <td>0</td>\n",
       "    </tr>\n",
       "    <tr>\n",
       "      <th>4</th>\n",
       "      <td>Credit reporting, credit repair services, or o...</td>\n",
       "      <td>My personal information was used without my kn...</td>\n",
       "      <td>1</td>\n",
       "    </tr>\n",
       "    <tr>\n",
       "      <th>6</th>\n",
       "      <td>Credit reporting, credit repair services, or o...</td>\n",
       "      <td>Previously, on XX/XX/XXXX, XX/XX/XXXX, and XX/...</td>\n",
       "      <td>1</td>\n",
       "    </tr>\n",
       "    <tr>\n",
       "      <th>7</th>\n",
       "      <td>Credit reporting, credit repair services, or o...</td>\n",
       "      <td>Hello This complaint is against the three cred...</td>\n",
       "      <td>1</td>\n",
       "    </tr>\n",
       "  </tbody>\n",
       "</table>\n",
       "</div>"
      ],
      "text/plain": [
       "                                             product  \\\n",
       "0                                    Debt collection   \n",
       "2                                    Debt collection   \n",
       "4  Credit reporting, credit repair services, or o...   \n",
       "6  Credit reporting, credit repair services, or o...   \n",
       "7  Credit reporting, credit repair services, or o...   \n",
       "\n",
       "                                           narrative  category_id  \n",
       "0  transworld systems inc. \\nis trying to collect...            0  \n",
       "2  Over the past 2 weeks, I have been receiving e...            0  \n",
       "4  My personal information was used without my kn...            1  \n",
       "6  Previously, on XX/XX/XXXX, XX/XX/XXXX, and XX/...            1  \n",
       "7  Hello This complaint is against the three cred...            1  "
      ]
     },
     "execution_count": 2,
     "metadata": {},
     "output_type": "execute_result"
    }
   ],
   "source": [
    "col = [\"Product\", \"Consumer complaint narrative\"]\n",
    "\n",
    "df = df[col]\n",
    "df = df[pd.notnull(df[\"Consumer complaint narrative\"])]\n",
    "\n",
    "df.columns = [\"product\", \"narrative\"]\n",
    "\n",
    "df[\"category_id\"] = df[\"product\"].factorize()[0]\n",
    "\n",
    "df.head()"
   ]
  },
  {
   "cell_type": "code",
   "execution_count": 3,
   "metadata": {},
   "outputs": [
    {
     "data": {
      "text/plain": [
       "(724553, 3)"
      ]
     },
     "execution_count": 3,
     "metadata": {},
     "output_type": "execute_result"
    }
   ],
   "source": [
    "df.shape"
   ]
  },
  {
   "cell_type": "markdown",
   "metadata": {},
   "source": [
    "Como a base de dados é muito grande e foge ao escopo deste curso, faremos uma redução aleatória dos dados, para conseguirmos trabalhar com as ferramentas que temos."
   ]
  },
  {
   "cell_type": "code",
   "execution_count": 4,
   "metadata": {},
   "outputs": [
    {
     "data": {
      "text/plain": [
       "(7246, 3)"
      ]
     },
     "execution_count": 4,
     "metadata": {},
     "output_type": "execute_result"
    }
   ],
   "source": [
    "sample_df = df.sample(frac=0.01, replace=True, random_state=0)\n",
    "sample_df.shape"
   ]
  },
  {
   "cell_type": "code",
   "execution_count": 5,
   "metadata": {},
   "outputs": [
    {
     "data": {
      "text/plain": [
       "Credit reporting, credit repair services, or other personal consumer reports    2725\n",
       "Debt collection                                                                 1381\n",
       "Mortgage                                                                         795\n",
       "Credit card or prepaid card                                                      513\n",
       "Checking or savings account                                                      340\n",
       "Credit reporting                                                                 333\n",
       "Student loan                                                                     272\n",
       "Credit card                                                                      196\n",
       "Money transfer, virtual currency, or money service                               179\n",
       "Bank account or service                                                          139\n",
       "Vehicle loan or lease                                                            135\n",
       "Payday loan, title loan, or personal loan                                        104\n",
       "Consumer Loan                                                                     82\n",
       "Payday loan                                                                       21\n",
       "Money transfers                                                                   18\n",
       "Prepaid card                                                                      11\n",
       "Other financial service                                                            2\n",
       "Name: product, dtype: int64"
      ]
     },
     "execution_count": 5,
     "metadata": {},
     "output_type": "execute_result"
    }
   ],
   "source": [
    "sample_df[\"product\"].value_counts()"
   ]
  },
  {
   "cell_type": "markdown",
   "metadata": {},
   "source": [
    "Para fins de simplificação da nossa base de dados, vamos eliminar todos os produtos com menos de 100 amostras."
   ]
  },
  {
   "cell_type": "code",
   "execution_count": 7,
   "metadata": {},
   "outputs": [
    {
     "data": {
      "text/html": [
       "<div>\n",
       "<style scoped>\n",
       "    .dataframe tbody tr th:only-of-type {\n",
       "        vertical-align: middle;\n",
       "    }\n",
       "\n",
       "    .dataframe tbody tr th {\n",
       "        vertical-align: top;\n",
       "    }\n",
       "\n",
       "    .dataframe thead th {\n",
       "        text-align: right;\n",
       "    }\n",
       "</style>\n",
       "<table border=\"1\" class=\"dataframe\">\n",
       "  <thead>\n",
       "    <tr style=\"text-align: right;\">\n",
       "      <th></th>\n",
       "      <th>product</th>\n",
       "      <th>narrative</th>\n",
       "      <th>category_id</th>\n",
       "    </tr>\n",
       "  </thead>\n",
       "  <tbody>\n",
       "    <tr>\n",
       "      <th>745263</th>\n",
       "      <td>Credit reporting, credit repair services, or o...</td>\n",
       "      <td>XXXX XXXX XXXX. XXXX XXXX  XXXX, PA XXXX XX/XX...</td>\n",
       "      <td>1</td>\n",
       "    </tr>\n",
       "    <tr>\n",
       "      <th>1062123</th>\n",
       "      <td>Student loan</td>\n",
       "      <td>At the end of XXXX, I applied for borrowers de...</td>\n",
       "      <td>5</td>\n",
       "    </tr>\n",
       "    <tr>\n",
       "      <th>264805</th>\n",
       "      <td>Credit reporting, credit repair services, or o...</td>\n",
       "      <td>I was notified by XXXX XXXX that this recently...</td>\n",
       "      <td>1</td>\n",
       "    </tr>\n",
       "    <tr>\n",
       "      <th>346395</th>\n",
       "      <td>Credit reporting, credit repair services, or o...</td>\n",
       "      <td>XXXX is reporting a debt on my credit file tha...</td>\n",
       "      <td>1</td>\n",
       "    </tr>\n",
       "    <tr>\n",
       "      <th>908845</th>\n",
       "      <td>Credit reporting, credit repair services, or o...</td>\n",
       "      <td>I recently received a copy of my credit report...</td>\n",
       "      <td>1</td>\n",
       "    </tr>\n",
       "  </tbody>\n",
       "</table>\n",
       "</div>"
      ],
      "text/plain": [
       "                                                   product  \\\n",
       "745263   Credit reporting, credit repair services, or o...   \n",
       "1062123                                       Student loan   \n",
       "264805   Credit reporting, credit repair services, or o...   \n",
       "346395   Credit reporting, credit repair services, or o...   \n",
       "908845   Credit reporting, credit repair services, or o...   \n",
       "\n",
       "                                                 narrative  category_id  \n",
       "745263   XXXX XXXX XXXX. XXXX XXXX  XXXX, PA XXXX XX/XX...            1  \n",
       "1062123  At the end of XXXX, I applied for borrowers de...            5  \n",
       "264805   I was notified by XXXX XXXX that this recently...            1  \n",
       "346395   XXXX is reporting a debt on my credit file tha...            1  \n",
       "908845   I recently received a copy of my credit report...            1  "
      ]
     },
     "execution_count": 7,
     "metadata": {},
     "output_type": "execute_result"
    }
   ],
   "source": [
    "products_to_drop = [\n",
    "    \"Consumer Loan\",\n",
    "    \"Payday loan\",\n",
    "    \"Money transfers\",\n",
    "    \"Prepaid card\",\n",
    "    \"Other financial service\"\n",
    "]\n",
    "\n",
    "for product in products_to_drop:\n",
    "    index_names = sample_df[sample_df[\"product\"] == product].index\n",
    "    sample_df.drop(index_names, inplace=True)\n",
    "\n",
    "sample_df.head()"
   ]
  },
  {
   "cell_type": "code",
   "execution_count": 8,
   "metadata": {},
   "outputs": [
    {
     "data": {
      "text/plain": [
       "(7112, 3)"
      ]
     },
     "execution_count": 8,
     "metadata": {},
     "output_type": "execute_result"
    }
   ],
   "source": [
    "sample_df.shape"
   ]
  },
  {
   "cell_type": "markdown",
   "metadata": {},
   "source": [
    "Com os dados limpos e organizados, vamos proceder com as nossas análises, montando dicionários para usarmos mais à frente."
   ]
  },
  {
   "cell_type": "code",
   "execution_count": 9,
   "metadata": {},
   "outputs": [
    {
     "data": {
      "text/html": [
       "<div>\n",
       "<style scoped>\n",
       "    .dataframe tbody tr th:only-of-type {\n",
       "        vertical-align: middle;\n",
       "    }\n",
       "\n",
       "    .dataframe tbody tr th {\n",
       "        vertical-align: top;\n",
       "    }\n",
       "\n",
       "    .dataframe thead th {\n",
       "        text-align: right;\n",
       "    }\n",
       "</style>\n",
       "<table border=\"1\" class=\"dataframe\">\n",
       "  <thead>\n",
       "    <tr style=\"text-align: right;\">\n",
       "      <th></th>\n",
       "      <th>product</th>\n",
       "      <th>category_id</th>\n",
       "    </tr>\n",
       "  </thead>\n",
       "  <tbody>\n",
       "    <tr>\n",
       "      <th>1085354</th>\n",
       "      <td>Debt collection</td>\n",
       "      <td>0</td>\n",
       "    </tr>\n",
       "    <tr>\n",
       "      <th>745263</th>\n",
       "      <td>Credit reporting, credit repair services, or o...</td>\n",
       "      <td>1</td>\n",
       "    </tr>\n",
       "    <tr>\n",
       "      <th>800748</th>\n",
       "      <td>Money transfer, virtual currency, or money ser...</td>\n",
       "      <td>2</td>\n",
       "    </tr>\n",
       "    <tr>\n",
       "      <th>1836226</th>\n",
       "      <td>Mortgage</td>\n",
       "      <td>3</td>\n",
       "    </tr>\n",
       "    <tr>\n",
       "      <th>154277</th>\n",
       "      <td>Vehicle loan or lease</td>\n",
       "      <td>4</td>\n",
       "    </tr>\n",
       "    <tr>\n",
       "      <th>1062123</th>\n",
       "      <td>Student loan</td>\n",
       "      <td>5</td>\n",
       "    </tr>\n",
       "    <tr>\n",
       "      <th>758888</th>\n",
       "      <td>Credit card or prepaid card</td>\n",
       "      <td>6</td>\n",
       "    </tr>\n",
       "    <tr>\n",
       "      <th>388554</th>\n",
       "      <td>Checking or savings account</td>\n",
       "      <td>7</td>\n",
       "    </tr>\n",
       "    <tr>\n",
       "      <th>1840220</th>\n",
       "      <td>Credit card</td>\n",
       "      <td>8</td>\n",
       "    </tr>\n",
       "    <tr>\n",
       "      <th>401571</th>\n",
       "      <td>Payday loan, title loan, or personal loan</td>\n",
       "      <td>9</td>\n",
       "    </tr>\n",
       "    <tr>\n",
       "      <th>1833910</th>\n",
       "      <td>Credit reporting</td>\n",
       "      <td>12</td>\n",
       "    </tr>\n",
       "    <tr>\n",
       "      <th>656326</th>\n",
       "      <td>Bank account or service</td>\n",
       "      <td>13</td>\n",
       "    </tr>\n",
       "  </tbody>\n",
       "</table>\n",
       "</div>"
      ],
      "text/plain": [
       "                                                   product  category_id\n",
       "1085354                                    Debt collection            0\n",
       "745263   Credit reporting, credit repair services, or o...            1\n",
       "800748   Money transfer, virtual currency, or money ser...            2\n",
       "1836226                                           Mortgage            3\n",
       "154277                               Vehicle loan or lease            4\n",
       "1062123                                       Student loan            5\n",
       "758888                         Credit card or prepaid card            6\n",
       "388554                         Checking or savings account            7\n",
       "1840220                                        Credit card            8\n",
       "401571           Payday loan, title loan, or personal loan            9\n",
       "1833910                                   Credit reporting           12\n",
       "656326                             Bank account or service           13"
      ]
     },
     "execution_count": 9,
     "metadata": {},
     "output_type": "execute_result"
    }
   ],
   "source": [
    "categories = sample_df[[\"product\", \"category_id\"]].drop_duplicates().sort_values(\"category_id\")\n",
    "categories"
   ]
  },
  {
   "cell_type": "code",
   "execution_count": 11,
   "metadata": {},
   "outputs": [
    {
     "name": "stdout",
     "output_type": "stream",
     "text": [
      "{'Debt collection': 0, 'Credit reporting, credit repair services, or other personal consumer reports': 1, 'Money transfer, virtual currency, or money service': 2, 'Mortgage': 3, 'Vehicle loan or lease': 4, 'Student loan': 5, 'Credit card or prepaid card': 6, 'Checking or savings account': 7, 'Credit card': 8, 'Payday loan, title loan, or personal loan': 9, 'Credit reporting': 12, 'Bank account or service': 13}\n",
      "{0: 'Debt collection', 1: 'Credit reporting, credit repair services, or other personal consumer reports', 2: 'Money transfer, virtual currency, or money service', 3: 'Mortgage', 4: 'Vehicle loan or lease', 5: 'Student loan', 6: 'Credit card or prepaid card', 7: 'Checking or savings account', 8: 'Credit card', 9: 'Payday loan, title loan, or personal loan', 12: 'Credit reporting', 13: 'Bank account or service'}\n"
     ]
    }
   ],
   "source": [
    "category_to_id = dict(categories.values)\n",
    "id_to_category = dict(categories[[\"category_id\", \"product\"]].values)\n",
    "\n",
    "print(category_to_id)\n",
    "print(id_to_category)"
   ]
  },
  {
   "cell_type": "markdown",
   "metadata": {},
   "source": [
    "## Balanceamento das classes\n",
    "\n",
    "Vamos elaborar um gráfico de colunas para levantar possíveis desbalanceamentos entre classes."
   ]
  },
  {
   "cell_type": "code",
   "execution_count": 13,
   "metadata": {},
   "outputs": [
    {
     "data": {
      "image/png": "[encoded data removed]",
      "text/plain": [
       "<Figure size 576x432 with 1 Axes>"
      ]
     },
     "metadata": {
      "needs_background": "light"
     },
     "output_type": "display_data"
    }
   ],
   "source": [
    "import matplotlib.pyplot as plt\n",
    "\n",
    "plt.figure(figsize=(8, 6))\n",
    "sample_df.groupby(\"product\").narrative.count().plot.bar(ylim=0)\n",
    "plt.show()"
   ]
  },
  {
   "cell_type": "markdown",
   "metadata": {},
   "source": [
    "É possível observar pelo gráfico um viés principalmente nas categorias \"Credit reporting, credit repair services, or other personal consumer reports\", \"Debt collection\" e \"Mortgage\".\n",
    "\n",
    "Apesar de isso poder apresentar um viés significativo para as classes majoritárias em detrimento das classes minoritárias, vamos proceder com essa base de dados, esperando obter uma alta acurácia para as classes majoritárias, e uma acurácia razoável para as demais classes.\n",
    "\n",
    "## Representação do texto\n",
    "\n",
    "Vamos usar um modelo de \"saco de palavras\" para representar as narrativas.\n",
    "\n",
    "Para cada termo no nosso conjunto de dados, vamos calcular a métrica tf-idf, do inglês \"Term Frequency, Inverse Document Frequency\"."
   ]
  },
  {
   "cell_type": "code",
   "execution_count": 15,
   "metadata": {},
   "outputs": [],
   "source": [
    "from sklearn.feature_extraction.text import TfidfVectorizer\n",
    "\n",
    "tfidf = TfidfVectorizer(\n",
    "    sublinear_tf=True,\n",
    "    min_df=5,\n",
    "    norm=\"l2\",\n",
    "    ngram_range=(1, 2),\n",
    "    encoding=\"latin-1\",\n",
    "    stop_words=\"english\"\n",
    ")"
   ]
  },
  {
   "cell_type": "code",
   "execution_count": 16,
   "metadata": {},
   "outputs": [
    {
     "data": {
      "text/plain": [
       "(7112, 21208)"
      ]
     },
     "execution_count": 16,
     "metadata": {},
     "output_type": "execute_result"
    }
   ],
   "source": [
    "features = tfidf.fit_transform(sample_df.narrative).toarray()\n",
    "labels = sample_df.category_id\n",
    "features.shape"
   ]
  },
  {
   "cell_type": "markdown",
   "metadata": {},
   "source": [
    "Vamos usar o cálculo do chi quadrado para identificar os atributos mais correlacionados com cada um dos produtos."
   ]
  },
  {
   "cell_type": "code",
   "execution_count": 18,
   "metadata": {},
   "outputs": [
    {
     "name": "stdout",
     "output_type": "stream",
     "text": [
      "# 'Bank account or service':\n",
      "  . Most correlated unigrams:\n",
      "    . deposit\n",
      "    . overdraft\n",
      "  . Most correlated bigrams:\n",
      "    . overdraft fee\n",
      "    . 00 overdraft\n",
      "# 'Checking or savings account':\n",
      "  . Most correlated unigrams:\n",
      "    . checking\n",
      "    . deposit\n",
      "  . Most correlated bigrams:\n",
      "    . savings account\n",
      "    . checking account\n",
      "# 'Credit card':\n",
      "  . Most correlated unigrams:\n",
      "    . barclaycard\n",
      "    . card\n",
      "  . Most correlated bigrams:\n",
      "    . best buy\n",
      "    . credit card\n",
      "# 'Credit card or prepaid card':\n",
      "  . Most correlated unigrams:\n",
      "    . capital\n",
      "    . card\n",
      "  . Most correlated bigrams:\n",
      "    . american express\n",
      "    . credit card\n",
      "# 'Credit reporting':\n",
      "  . Most correlated unigrams:\n",
      "    . experian\n",
      "    . equifax\n",
      "  . Most correlated bigrams:\n",
      "    . lien released\n",
      "    . tax lien\n",
      "# 'Credit reporting, credit repair services, or other personal consumer reports':\n",
      "  . Most correlated unigrams:\n",
      "    . accounts\n",
      "    . report\n",
      "  . Most correlated bigrams:\n",
      "    . identity theft\n",
      "    . credit report\n",
      "# 'Debt collection':\n",
      "  . Most correlated unigrams:\n",
      "    . collection\n",
      "    . debt\n",
      "  . Most correlated bigrams:\n",
      "    . debt collection\n",
      "    . collect debt\n",
      "# 'Money transfer, virtual currency, or money service':\n",
      "  . Most correlated unigrams:\n",
      "    . coinbase\n",
      "    . paypal\n",
      "  . Most correlated bigrams:\n",
      "    . western union\n",
      "    . paypal account\n",
      "# 'Mortgage':\n",
      "  . Most correlated unigrams:\n",
      "    . escrow\n",
      "    . mortgage\n",
      "  . Most correlated bigrams:\n",
      "    . mortgage company\n",
      "    . escrow account\n",
      "# 'Payday loan, title loan, or personal loan':\n",
      "  . Most correlated unigrams:\n",
      "    . speedy\n",
      "    . payday\n",
      "  . Most correlated bigrams:\n",
      "    . approved payment\n",
      "    . loan approved\n",
      "# 'Student loan':\n",
      "  . Most correlated unigrams:\n",
      "    . student\n",
      "    . navient\n",
      "  . Most correlated bigrams:\n",
      "    . student loans\n",
      "    . student loan\n",
      "# 'Vehicle loan or lease':\n",
      "  . Most correlated unigrams:\n",
      "    . car\n",
      "    . vehicle\n",
      "  . Most correlated bigrams:\n",
      "    . got car\n",
      "    . vehicle xx\n"
     ]
    }
   ],
   "source": [
    "from sklearn.feature_selection import chi2\n",
    "import numpy as np\n",
    "\n",
    "N = 2\n",
    "for product, category_id in sorted(category_to_id.items()):\n",
    "    features_chi2 = chi2(features, labels == category_id)\n",
    "    indices = np.argsort(features_chi2[0])\n",
    "    feature_names = np.array(tfidf.get_feature_names())[indices]\n",
    "    unigrams = [v for v in feature_names if len(v.split(\" \")) == 1]\n",
    "    bigrams = [v for v in feature_names if len(v.split(\" \")) == 2]\n",
    "    \n",
    "    print(f\"# '{product}':\")\n",
    "    print(\"  . Most correlated unigrams:\\n    . \", end=\"\")\n",
    "    print(\"\\n    . \".join(unigrams[-N:]))\n",
    "    print(\"  . Most correlated bigrams:\\n    . \", end=\"\")\n",
    "    print(\"\\n    . \".join(bigrams[-N:]))"
   ]
  },
  {
   "cell_type": "markdown",
   "metadata": {},
   "source": [
    "## Aplicação do algoritmo de Naive Bayes"
   ]
  },
  {
   "cell_type": "code",
   "execution_count": 19,
   "metadata": {},
   "outputs": [],
   "source": [
    "from sklearn.model_selection import train_test_split\n",
    "from sklearn.feature_extraction.text import CountVectorizer, TfidfTransformer\n",
    "from sklearn.naive_bayes import MultinomialNB\n",
    "\n",
    "data_train, data_test, prod_train, prod_test = train_test_split(\n",
    "    sample_df[\"narrative\"],\n",
    "    sample_df[\"product\"],\n",
    "    random_state=0\n",
    ")\n",
    "\n",
    "count_vect = CountVectorizer()\n",
    "data_train_counts = count_vect.fit_transform(data_train)\n",
    "\n",
    "tfidf_transformer = TfidfTransformer()\n",
    "data_train_tfidf = tfidf_transformer.fit_transform(data_train_counts)\n",
    "\n",
    "model = MultinomialNB().fit(data_train_tfidf, prod_train)"
   ]
  },
  {
   "cell_type": "code",
   "execution_count": 20,
   "metadata": {},
   "outputs": [
    {
     "data": {
      "text/plain": [
       "MultinomialNB()"
      ]
     },
     "execution_count": 20,
     "metadata": {},
     "output_type": "execute_result"
    }
   ],
   "source": [
    "model"
   ]
  }
 ],
 "metadata": {
  "kernelspec": {
   "display_name": "Python 3",
   "language": "python",
   "name": "python3"
  },
  "language_info": {
   "codemirror_mode": {
    "name": "ipython",
    "version": 3
   },
   "file_extension": ".py",
   "mimetype": "text/x-python",
   "name": "python",
   "nbconvert_exporter": "python",
   "pygments_lexer": "ipython3",
   "version": "3.9.5"
  }
 },
 "nbformat": 4,
 "nbformat_minor": 4
}

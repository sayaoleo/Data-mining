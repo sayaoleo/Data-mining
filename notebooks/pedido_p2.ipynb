{
 "cells": [
  {
   "cell_type": "markdown",
   "metadata": {},
   "source": [
    "# Trabalho P2\n",
    "\n",
    "## Pedido\n",
    "\n",
    "- Relatório no formato de um jupyter notebook, de forma a aplicar um (ou mais) modelos de mineração de dados estudado(s) durante o curso.\n",
    "- Os dados devem ser coletados o Kaggle (sugestão). Caso necessário, deve ser incluído também script para a extração de dados.\n",
    "- O racional sobre a análise dos dados será considerado na avaliação do trabalho!\n",
    "- Utilizem markdown para explicar o processo.\n",
    "\n",
    "## Organização do relatório\n",
    "\n",
    "- Apresentação\n",
    "- Dados\n",
    "  - O que são?\n",
    "  - Qual a fonte?\n",
    "  - Link?\n",
    "  - Contexto dos dados\n",
    "- Objetivo\n",
    "  - Definir uma questão que o modelo deve responder (\"qual seria a função necessária para prever um determinado valor?\", \"como uma nova amostra se classificari em um determinado atributo?\")\n",
    "  - Apresentar uma ou mais hipóteses sobre os dados (\"quanto maior a área do imóvel, maior o seu preço de venda\")\n",
    "- Análise de dados\n",
    "  - Apresentar os dados\n",
    "    - Qual o DataFrame\n",
    "    - Tipos de dados\n",
    "    - Resumos (médias, desvios-padrão, etc.)\n",
    "    - Shape\n",
    "  - Gráfico de distribuição de valores\n",
    "- Limpeza dos dados\n",
    "  - Eliminar colunas desnecessárias\n",
    "  - Converter dados de texto\n",
    "  - Eliminar dados inválidos\n",
    "- Implementação do modelo\n",
    "  - Dividir os dados em dados de treino e de teste\n",
    "  - Aplicar o modelo\n",
    "  - Ajustar\n",
    "- Testar o modelo\n",
    "  - Aplicar o modelo ajustado sobre os dados de teste\n",
    "  - Levantar métricas adequadas\n",
    "- Conclusões\n",
    "  - Apresentar gráficos\n",
    "  - Apresentar tabelas\n",
    "  - Observações finais sobre o modelo\n",
    "\n",
    "## Informações Gerais\n",
    "\n",
    "- Prazo: 29/06/2021\n",
    "- Sejam criativos!\n",
    "- Submissão do trabalho pelo Teams, **em um arquivo .zip**, contendo:\n",
    "  - Notebook (.ipynb)\n",
    "  - Dados (.csv, .json, etc.)\n",
    "- Se pegarem dados de outras fontes, apresentar o ETL"
   ]
  }
 ],
 "metadata": {
  "kernelspec": {
   "display_name": "Python 3",
   "language": "python",
   "name": "python3"
  },
  "language_info": {
   "codemirror_mode": {
    "name": "ipython",
    "version": 3
   },
   "file_extension": ".py",
   "mimetype": "text/x-python",
   "name": "python",
   "nbconvert_exporter": "python",
   "pygments_lexer": "ipython3",
   "version": "3.9.5"
  }
 },
 "nbformat": 4,
 "nbformat_minor": 4
}
